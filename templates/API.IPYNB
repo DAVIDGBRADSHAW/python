
@app.route('/')
def home():
    return render_template('index.html')

@app.route('/address-lookup', methods=['GET', 'POST'])
def address_lookup():
    if request.method == 'POST':
        return redirect(url_for('get_address_coordinates'))
    return render_template('address_lookup.html')

@app.route('/get-address-coordinates', methods=['POST'])
def get_address_coordinates():
    address = request.form['address']
    url = f'https://maps.googleapis.com/maps/api/geocode/json?address={address}&key={API_KEY}'

    try:
        response = requests.get(url)
        data = response.json()
        if data['status'] == 'OK':
            coordinates = data['results'][0]['geometry']['location']
            return render_template('address_lookup.html', coordinates=coordinates)
        else:
            error_message = data['error_message'] if 'error_message' in data else 'Address not found.'
            return render_template('address_lookup.html', error_message=error_message)
    except requests.exceptions.RequestException as e:
        return render_template('address_lookup.html', error_message=str(e))

if __name__ == '__main__':
    app.run(debug=True)
    